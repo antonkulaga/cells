{
 "cells": [
  {
   "cell_type": "code",
   "outputs": [],
   "source": [
    "from cells.segmentation import load_grey_folder, write_folder_segmentation"
   ],
   "metadata": {
    "collapsed": false,
    "ExecuteTime": {
     "end_time": "2024-07-19T01:14:30.215889Z",
     "start_time": "2024-07-19T01:14:25.654865Z"
    }
   },
   "id": "63443754e0978b5c",
   "execution_count": 1
  },
  {
   "cell_type": "code",
   "outputs": [],
   "source": [
    "from pathlib import Path\n",
    "import numpy as np\n",
    "from collections import OrderedDict\n",
    "#images: OrderedDict[str,np.array] = load_grey_folder(Path(\"../data/test\"))"
   ],
   "metadata": {
    "collapsed": false,
    "ExecuteTime": {
     "end_time": "2024-07-19T01:14:30.240098Z",
     "start_time": "2024-07-19T01:14:30.223475Z"
    }
   },
   "id": "12721767f81f306e",
   "execution_count": 2
  },
  {
   "cell_type": "code",
   "outputs": [
    {
     "name": "stderr",
     "output_type": "stream",
     "text": [
      "\u001B[32m2024-07-19 04:14:30.795\u001B[0m | \u001B[1mINFO    \u001B[0m | \u001B[36mcells.segmentation\u001B[0m:\u001B[36mwrite_folder_segmentation\u001B[0m:\u001B[36m84\u001B[0m - \u001B[1mSegmenting /home/antonkulaga/sources/cells/data/test and writing output to /home/antonkulaga/sources/cells/data/output\u001B[0m\n",
      "\u001B[32m2024-07-19 04:15:27.662\u001B[0m | \u001B[1mINFO    \u001B[0m | \u001B[36mcells.segmentation\u001B[0m:\u001B[36mwrite_folder_segmentation\u001B[0m:\u001B[36m88\u001B[0m - \u001B[1mwriting segmentation to ../data/output/24-06-11_C2C12_CRISPRmet_hoechst_proliferation-CRISPR+Guide__d2-FOV 00710-DAPI.tif\u001B[0m\n",
      "\u001B[32m2024-07-19 04:15:28.600\u001B[0m | \u001B[1mINFO    \u001B[0m | \u001B[36mcells.segmentation\u001B[0m:\u001B[36mwrite_folder_segmentation\u001B[0m:\u001B[36m98\u001B[0m - \u001B[1mCSV file has been written to: /home/antonkulaga/sources/cells/data/output/counts.csv\u001B[0m\n"
     ]
    },
    {
     "data": {
      "text/plain": "PosixPath('../data/output')"
     },
     "execution_count": 3,
     "metadata": {},
     "output_type": "execute_result"
    }
   ],
   "source": [
    "write_folder_segmentation(Path(\"../data/test\"), Path(\"../data/output\"))"
   ],
   "metadata": {
    "collapsed": false,
    "ExecuteTime": {
     "end_time": "2024-07-19T01:15:28.607153Z",
     "start_time": "2024-07-19T01:14:30.243905Z"
    }
   },
   "id": "b1d55c4bef06c37b",
   "execution_count": 3
  },
  {
   "cell_type": "markdown",
   "source": [
    "# Test segmentation #\n"
   ],
   "metadata": {
    "collapsed": false
   },
   "id": "cc74bc2520046ed1"
  },
  {
   "cell_type": "code",
   "outputs": [
    {
     "data": {
      "text/plain": "[PosixPath('/home/antonkulaga/sources/cells/data/CRISPR/Day3/CRISPRctrl_d3'),\n PosixPath('/home/antonkulaga/sources/cells/data/CRISPR/Day3/Parental_d3'),\n PosixPath('/home/antonkulaga/sources/cells/data/CRISPR/Day3/CRISPR+Guide__d2'),\n PosixPath('/home/antonkulaga/sources/cells/data/CRISPR/Day3/Guide_d3')]"
     },
     "execution_count": 3,
     "metadata": {},
     "output_type": "execute_result"
    }
   ],
   "source": [
    "day_3 = files.children(days[2]).to_list()\n",
    "day_3"
   ],
   "metadata": {
    "collapsed": false,
    "ExecuteTime": {
     "end_time": "2024-07-17T10:56:40.600141Z",
     "start_time": "2024-07-17T10:56:40.593268Z"
    }
   },
   "id": "2c5e1ccbff0ed59d",
   "execution_count": 3
  },
  {
   "cell_type": "code",
   "outputs": [
    {
     "data": {
      "text/plain": "(ImageSequence,) processed through proc_func. Original repr:\n    <Frames>\n    Source: /home/antonkulaga/sources/cells/data/CRISPR/Day3/CRISPR+Guide__d2/*.tif\n    Length: 124 frames\n    Frame Shape: (979, 1328, 3)\n    Pixel Datatype: uint8"
     },
     "execution_count": 4,
     "metadata": {},
     "output_type": "execute_result"
    }
   ],
   "source": [
    "experiment = pims.as_grey(pims.open(str(day_3[2])+\"/*.tif\"))\n",
    "experiment"
   ],
   "metadata": {
    "collapsed": false,
    "ExecuteTime": {
     "end_time": "2024-07-17T10:56:40.637292Z",
     "start_time": "2024-07-17T10:56:40.602034Z"
    }
   },
   "id": "a37cbbe122de1e97",
   "execution_count": 4
  }
 ],
 "metadata": {
  "kernelspec": {
   "display_name": "Python 3",
   "language": "python",
   "name": "python3"
  },
  "language_info": {
   "codemirror_mode": {
    "name": "ipython",
    "version": 2
   },
   "file_extension": ".py",
   "mimetype": "text/x-python",
   "name": "python",
   "nbconvert_exporter": "python",
   "pygments_lexer": "ipython2",
   "version": "2.7.6"
  }
 },
 "nbformat": 4,
 "nbformat_minor": 5
}
